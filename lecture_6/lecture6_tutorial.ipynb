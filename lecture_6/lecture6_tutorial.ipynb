{
 "cells": [
  {
   "cell_type": "code",
   "execution_count": null,
   "metadata": {},
   "outputs": [],
   "source": [
    "# tutorial not ready"
   ]
  },
  {
   "cell_type": "code",
   "execution_count": null,
   "metadata": {},
   "outputs": [],
   "source": [
    "import numpy as np\n",
    "import matplotlib.pyplot as plt\n",
    "import scipy.sparse.linalg\n",
    "import scipy.stats\n",
    "import scipy.io\n",
    "from scipy.ndimage.filters import gaussian_filter1d\n",
    "from scipy.ndimage.filters import maximum_filter1d\n",
    "from scipy.ndimage.filters import minimum_filter1d\n",
    "from six.moves import urllib\n",
    "import os\n",
    "import sklearn.decomposition\n",
    "import warnings\n",
    "warnings.simplefilter('ignore')"
   ]
  },
  {
   "cell_type": "code",
   "execution_count": null,
   "metadata": {},
   "outputs": [],
   "source": [
    "# DATA preprocessing\n",
    "# we need to clean up the pupil data\n",
    "# we need to baseline and deconvolve the calcium fluorescence data"
   ]
  },
  {
   "cell_type": "code",
   "execution_count": null,
   "metadata": {},
   "outputs": [],
   "source": [
    "# clean up pupil data: find outliers and replace them by interpolation"
   ]
  },
  {
   "cell_type": "code",
   "execution_count": null,
   "metadata": {},
   "outputs": [],
   "source": [
    "from scipy.ndimage import filters\n",
    "\n",
    "# baseline fluorescence traces recorded with 2p calcium imaging\n",
    "ops['sig_baseline'] = 1  # adjust this to get desired result\n",
    "ops['win_baseline'] = 20 # adjust this to get desired result\n",
    "ops['fs'] = 5\n",
    "\n",
    "sig = ops['sig_baseline']\n",
    "win = int(ops['win_baseline']*ops['fs'])    \n",
    "\n",
    "# smooth the data first, to remove high-frequency noise\n",
    "Flow = filters.gaussian_filter(F,    [0., sig])\n",
    "\n",
    "# now run a minimum filter\n",
    "Flow = filters.minimum_filter1d(Flow,    win)\n",
    "\n",
    "# now run a maximum filter\n",
    "Flow = filters.maximum_filter1d(Flow,    win)"
   ]
  },
  {
   "cell_type": "code",
   "execution_count": null,
   "metadata": {},
   "outputs": [],
   "source": [
    "# visualize the baseline for neuron iN\n",
    "iN = 100\n",
    "timerange = np.arange(0, 1000)\n",
    "plt.figure(figsize=(12,4))\n",
    "plt.plot(F[iN,timerange])\n",
    "plt.plot(Flow[iN,timerange])\n",
    "plt.show()"
   ]
  },
  {
   "cell_type": "code",
   "execution_count": null,
   "metadata": {},
   "outputs": [],
   "source": [
    "# once we're happy with the parameters, run the baselined data through deconvolution\n",
    "from suitep import dcnv\n",
    "\n",
    "ops['tau'] = 2. # timescale of gcamp sensor\n",
    "F0 = F - Flow\n",
    "sp = dcnv.oasis(F - Flow, ops) # deconvolve the baselined traces using OASIS"
   ]
  },
  {
   "cell_type": "code",
   "execution_count": null,
   "metadata": {},
   "outputs": [],
   "source": [
    "# reconstruct the fluorescence from the deconvolved using the exponential convolution filter\n",
    "flt = exp(-np.arange(0,ops['fs']*10)/ops['tau'])\n",
    "Frec = np.convolve(sp, flt)"
   ]
  },
  {
   "cell_type": "code",
   "execution_count": null,
   "metadata": {},
   "outputs": [],
   "source": [
    "# visualize the reconstruction for neuron iN\n",
    "iN = 100\n",
    "timerange = np.arange(0, 1000)\n",
    "\n",
    "plt.figure(figsize=(12,4))\n",
    "plt.plot(Frec[iN,timerange])\n",
    "plt.plot(F0[iN,timerange])\n",
    "plt.show()"
   ]
  },
  {
   "cell_type": "code",
   "execution_count": null,
   "metadata": {},
   "outputs": [],
   "source": [
    "# ready to build some models! \n",
    "# use T consecutive samples to predict the T+1-th sample\n",
    "\n",
    "# normalize spike data\n",
    "# subtract mean for each neuron\n",
    "sp  = sp - sp.mean(axis=1)[:,np.newaxis]\n",
    "# divide by the global standard deviation\n",
    "sp = sp/np.std(sp)\n",
    "\n",
    "# we will do this prediction one neuron at a time\n",
    "iN = 100\n",
    "\n",
    "# let's make windows of size k (where k is how much history we consider)\n",
    "k = 10\n",
    "x = np.zeros((nt-k-1,k+1))\n",
    "for n in range(nt-k-1):\n",
    "    x[n,:] = sp[iN, n:n+k+1]\n",
    "    \n",
    "# we predict the last sample\n",
    "y = x[:, k]\n",
    "# from the first k samples\n",
    "x = x[:, :k]\n",
    "\n",
    "# for regression we need the covariance of the inputs\n",
    "covX = x.T @ x / x.shape[0]\n",
    "# and the cross-covariance between output and input\n",
    "xty = x.T @ y / x.shape[0]\n",
    "\n",
    "# linalg.solve(a,b) solves the equations aw = b, so w = a^-1 * b, which is the solution to our regression problem\n",
    "w = np.linalg.solve(covX, xty)"
   ]
  },
  {
   "cell_type": "code",
   "execution_count": null,
   "metadata": {},
   "outputs": [],
   "source": [
    "# now let's plotthe filter w, the raw data, and the prediction\n",
    "\n",
    "# we will make a small function that computes the variance explained\n",
    "def variance_explained(y,x,w):\n",
    "    ypred = x @ w\n",
    "    varres = ((y - ypred)**2).mean()\n",
    "    varexp = 1 - varres / y[:-1].var()\n",
    "    return varexp\n",
    "\n",
    "fig = plt.figure(figsize=(8,3))\n",
    "ax = fig.add_subplot(1,2,1)\n",
    "ax.plot(w)\n",
    "\n",
    "ax2 = fig.add_subplot(1,2,2)\n",
    "ax2.plot(y[:500])\n",
    "ax2.plot(x[:500,:] @ w)\n",
    "plt.show()\n",
    "\n",
    "print('variance explained is %2.2f'%(variance_explained(y,x,w))"
   ]
  },
  {
   "cell_type": "code",
   "execution_count": null,
   "metadata": {},
   "outputs": [],
   "source": [
    "# that didn't work so well. let's combine it with PCA.\n",
    "# decompose data into PCs, predict the PCs, and then recombine the predictions.\n",
    "# are we doing better? \n",
    "\n",
    "# compute principal components\n",
    "nPCs = 100 # how many PCs to keep\n",
    "sv,u  = scipy.sparse.linalg.eigsh(sp @ sp, k=nPCs)\n",
    "\n",
    "# project data into PCs\n",
    "tracePC = u.T @ sp\n",
    "\n",
    "# to reconstruct the data and predictions ,we will do\n",
    "# sp_rec = u @ tracePC\n",
    "\n",
    "# the following simply copies the code from above, in a loop for each PC\n",
    "tracePCrec = np.zeros(tracePC.shape) # preallocate reconstructed traces\n",
    "for iN in range(nPCs):\n",
    "    k = 10\n",
    "    # let's make windows of size k (where k is how much history we consider)\n",
    "    x = np.zeros((nt-k-1,k+1))\n",
    "    for n in range(nt-k-1):\n",
    "        x[n,:] = tracePC[iN, n:n+k+1]\n",
    "    # we predict the last sample\n",
    "    y = x[:, k]\n",
    "    # from the first k samples\n",
    "    x = x[:, :k]\n",
    "    # for regression we need the covariance of the inputs\n",
    "    covX = x.T @ x / x.shape[0]\n",
    "    # and the cross-covariance between output and input\n",
    "    xty = x.T @ y / x.shape[0]\n",
    "    # linalg.solve(a,b) solves the equations aw = b, so w = a^-1 * b, which is the solution to our regression problem\n",
    "    w = np.linalg.solve(covX, xty)\n",
    "    # what is the reconstruction of the PC\n",
    "    tracePCrec[iN, :] = x @ w"
   ]
  },
  {
   "cell_type": "code",
   "execution_count": null,
   "metadata": {},
   "outputs": [],
   "source": [
    "# now that we have PC predictions, let's reconstruct single neuron predictions\n",
    "sp_rec = u @ tracePCrec\n",
    "\n",
    "iN = 100\n",
    "y = sp[iN,:]\n",
    "x = sp_rec[iN,:]\n",
    "\n",
    "print('variance explained is %2.2f'%)\n",
    "\n",
    "# make a loop to compute explained variance per neuron and plot it across neurons"
   ]
  },
  {
   "cell_type": "code",
   "execution_count": null,
   "metadata": {},
   "outputs": [],
   "source": [
    "# can we reconstruct the single neuron filters, based on the PC filters? \n",
    "\n",
    "# how about using this to predict one neuron from other neurons? can we reconstruct those filters?"
   ]
  },
  {
   "cell_type": "code",
   "execution_count": null,
   "metadata": {},
   "outputs": [],
   "source": [
    "# how many timesamples in the past do we need? make AR(1), AR(2) models. \n",
    "\n",
    "# go back above and replace k with 1, 2, 3, etc where does prediction saturate? "
   ]
  },
  {
   "cell_type": "code",
   "execution_count": null,
   "metadata": {},
   "outputs": [],
   "source": [
    "# Try basis functions instead with timescales of .5, 1, 2, 4 and 8 frames. \n",
    "# filter the PCs with exponential filters, predict from those\n",
    "# no need to window anymore for this: each exponential filter should be applied convolutionally\n"
   ]
  },
  {
   "cell_type": "code",
   "execution_count": null,
   "metadata": {},
   "outputs": [],
   "source": [
    "# check out the filters learnt: reconstruct them with the basis functions\n",
    "\n"
   ]
  },
  {
   "cell_type": "code",
   "execution_count": null,
   "metadata": {},
   "outputs": [],
   "source": [
    "# now let's see if we can predict a PC from other PCs. why would we even try this if the PCs are orthogonal?"
   ]
  },
  {
   "cell_type": "code",
   "execution_count": null,
   "metadata": {},
   "outputs": [],
   "source": [
    "# add pupil information. First predict only from the pupil, then try basis functions on the pupil"
   ]
  },
  {
   "cell_type": "code",
   "execution_count": 2,
   "metadata": {},
   "outputs": [],
   "source": [
    "# let's put it all together! predict each PC at time T+1 from all pupil coefficients, \n",
    "# same PC coefficients and all other PC coefficients"
   ]
  },
  {
   "cell_type": "code",
   "execution_count": 1,
   "metadata": {},
   "outputs": [],
   "source": [
    "# create dataset and discrete classification\n",
    "# y = x + gaussian random noise\n",
    "# => latent variable is identity line\n",
    "N = 100\n",
    "x = np.random.random((N,))\n",
    "y = x + .2*np.random.randn(N)\n",
    "\n",
    "x = np.vstack((x,y))\n",
    "cm = np.array([[1,0,0],[0,0,1]])\n",
    "cms = np.zeros((N,3))\n",
    "cms[x[0,:]>.5,:] = cm[0,:]\n",
    "cms[x[0,:]<=.5,:] = cm[1,:]\n",
    "\n",
    "# download 2-photon data (if not already downloaded)\n",
    "if not os.path.isfile('data/mesoscope_activity.npy'):\n",
    "    if not os.path.exists('data'):\n",
    "        os.mkdir('data')\n",
    "    response = urllib.request.urlopen('http://www.gatsby.ucl.ac.uk/~cstringer/mesoscope_activity.npy');\n",
    "    f=open('data/mesoscope_activity.npy','wb')\n",
    "    f.write(response.read())\n",
    "    f.close()\n",
    "    \n",
    "# load downloaded data\n",
    "dat = np.load('data/mesoscope_activity.npy')\n",
    "dat = dat.item()\n",
    "sp  = dat['spks']\n",
    "xyloc = dat['xyloc']"
   ]
  },
  {
   "cell_type": "code",
   "execution_count": 447,
   "metadata": {},
   "outputs": [],
   "source": [
    "dat = scipy.io.loadmat('D:/grive/10krecordings/spontData/spont_M150824_MP019_2016-04-05.mat', squeeze_me=True)\n"
   ]
  },
  {
   "cell_type": "code",
   "execution_count": 457,
   "metadata": {},
   "outputs": [
    {
     "data": {
      "image/png": "[encoded data removed]",
      "text/plain": [
       "<Figure size 432x288 with 1 Axes>"
      ]
     },
     "metadata": {},
     "output_type": "display_data"
    }
   ],
   "source": [
    "f = dat['Fsp'][10,:]\n",
    "sp = dat['Fsp']\n",
    "# normalize stddev's of cells\n",
    "sp /= sp.std(axis=1)[:,np.newaxis]\n",
    "plt.plot(f)\n",
    "plt.show()"
   ]
  },
  {
   "cell_type": "code",
   "execution_count": 290,
   "metadata": {},
   "outputs": [],
   "source": [
    "m1 = scipy.io.loadmat('../lecture_2/data/m1_stevenson_2011.mat', squeeze_me=True)\n",
    "sp = m1['spikes']\n",
    "m1['time'] = m1['time'].squeeze()\n",
    "tbin = np.diff(m1['time']).mean()\n",
    "handpos = m1['handPos']"
   ]
  },
  {
   "cell_type": "code",
   "execution_count": 449,
   "metadata": {},
   "outputs": [],
   "source": [
    "# sp is neurons x timepts, find first PC\n",
    "# mean center data\n",
    "sp_sub  = sp - sp.mean(axis=1)[:,np.newaxis]\n",
    "# compute principal components\n",
    "sv,u  = scipy.sparse.linalg.eigsh(sp_sub @ sp_sub.T,k=100)\n",
    "v = np.diag(sv**-0.5) @ u.T @ sp_sub\n",
    "# low-dimensional approximation:\n",
    "sp_lowd = ((sp_sub.T @ u) @ u.T).T"
   ]
  },
  {
   "cell_type": "code",
   "execution_count": 430,
   "metadata": {},
   "outputs": [
    {
     "data": {
      "image/png": "[encoded data removed]",
      "text/plain": [
       "<Figure size 432x288 with 1 Axes>"
      ]
     },
     "metadata": {},
     "output_type": "display_data"
    }
   ],
   "source": [
    "# the covariance in time is a circulant matrix which reflects the autocorrelation function\n",
    "plt.imshow(covX)\n",
    "plt.show()"
   ]
  },
  {
   "cell_type": "code",
   "execution_count": 431,
   "metadata": {},
   "outputs": [
    {
     "data": {
      "image/png": "[encoded data removed]",
      "text/plain": [
       "<Figure size 1152x144 with 10 Axes>"
      ]
     },
     "metadata": {},
     "output_type": "display_data"
    }
   ],
   "source": [
    "# circulant matrices have PCs which are Fourier modes\n",
    "svx,ux = scipy.sparse.linalg.eigsh(covX,k=covX.shape[1])\n",
    "fig = plt.figure(figsize=(16,2))\n",
    "for k in range(10):\n",
    "    ax = fig.add_subplot(1,10,k+1)\n",
    "    ax.plot(ux[:,ux.shape[1]-1-k])\n",
    "    ax.axis('off')"
   ]
  },
  {
   "cell_type": "code",
   "execution_count": 480,
   "metadata": {},
   "outputs": [],
   "source": [
    "from scipy.ndimage.filters import convolve1d\n",
    "\n",
    "expfilt = np.exp(np.arange(0,-8,-1)/2)\n",
    "#expfilt /= expfilt.sum()\n",
    "# filter each neuron's timecourse with an exponential filter\n",
    "spexp = convolve1d(sp, expfilt, axis=1)"
   ]
  },
  {
   "cell_type": "code",
   "execution_count": 481,
   "metadata": {},
   "outputs": [
    {
     "name": "stdout",
     "output_type": "stream",
     "text": [
      "(11983, 21055)\n"
     ]
    },
    {
     "data": {
      "image/png": "[encoded data removed]",
      "text/plain": [
       "<Figure size 432x288 with 1 Axes>"
      ]
     },
     "metadata": {},
     "output_type": "display_data"
    }
   ],
   "source": [
    "plt.plot(sp[1,:100])\n",
    "plt.plot(spexp[1,:100])\n",
    "print(spexp.shape)"
   ]
  }
 ],
 "metadata": {
  "kernelspec": {
   "display_name": "Python 3",
   "language": "python",
   "name": "python3"
  },
  "language_info": {
   "codemirror_mode": {
    "name": "ipython",
    "version": 3
   },
   "file_extension": ".py",
   "mimetype": "text/x-python",
   "name": "python",
   "nbconvert_exporter": "python",
   "pygments_lexer": "ipython3",
   "version": "3.6.5"
  }
 },
 "nbformat": 4,
 "nbformat_minor": 2
}
